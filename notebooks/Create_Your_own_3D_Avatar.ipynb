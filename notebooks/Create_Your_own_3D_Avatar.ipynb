{
  "nbformat": 4,
  "nbformat_minor": 0,
  "metadata": {
    "colab": {
      "provenance": [],
      "machine_shape": "hm",
      "gpuType": "V100",
      "collapsed_sections": [
        "95OjyMJ2unG_",
        "MMccH9kRdXCi",
        "EamN4hKMdbw5",
        "_LC7p8f1diBr",
        "LkyLRcwbw5QZ",
        "8iz40eD8fyvS"
      ],
      "include_colab_link": true
    },
    "kernelspec": {
      "name": "python3",
      "display_name": "Python 3"
    },
    "language_info": {
      "name": "python"
    },
    "accelerator": "GPU"
  },
  "cells": [
    {
      "cell_type": "markdown",
      "metadata": {
        "id": "view-in-github",
        "colab_type": "text"
      },
      "source": [
        "<a href=\"https://colab.research.google.com/github/pedrogengo/3D_avatar_generator/blob/main/notebooks/Create_Your_own_3D_Avatar.ipynb\" target=\"_parent\"><img src=\"https://colab.research.google.com/assets/colab-badge.svg\" alt=\"Open In Colab\"/></a>"
      ]
    },
    {
      "cell_type": "markdown",
      "source": [
        "# Generate a 3D Avatar of Yourself\n",
        "by [pedro](https://twitter.com/Predogl) and [ritwik](https://twitter.com/ritwik_raha)\n",
        "\n",
        "Create a 3D Avatar of Yourself from your images using an IP Adapter and a pretrained image-to-3D Model.\n",
        "\n",
        "## The 3D Avatar Workflow\n",
        "\n",
        "Our workflow explores this proposal in the following stages:\n",
        "\n",
        "- First we upload the image and supply a prompt.\n",
        "- Next we use an IP Adapter to convert the image in a specific style.\n",
        "- Finally we use the pretrained TripoSR model from StabilityAI to generate a 3D object and a video.\n",
        "\n",
        "<figure>\n",
        "    <img src=\"https://huggingface.co/datasets/ritwikraha/random-storage/resolve/main/3D-Avatar-diagram.png\"\n",
        "         alt=\"Albuquerque, New Mexico\">\n",
        "    <figcaption>Diagram of the entire workflow</figcaption>\n",
        "</figure>\n",
        "\n"
      ],
      "metadata": {
        "id": "sd8uqoWtyuaX"
      }
    },
    {
      "cell_type": "markdown",
      "source": [
        "## How does the image to 3D workflow work?\n",
        "\n",
        "> \"TripoSR is a fast and feed-forward 3D generative model developed in collaboration between Stability AI and Tripo AI.\"\n",
        "-[TripoSR by stability.ai](https://huggingface.co/stabilityai/TripoSR)\n",
        "\n",
        "TripoSR is meant to follow the pipeline of the LRM model (Large Reconstruction Model for Single Image to 3D) very closely.\n",
        "\n",
        "\n",
        "<figure>\n",
        "    <img src=\"https://huggingface.co/datasets/ritwikraha/random-storage/resolve/main/Screenshot%202024-03-25%20at%2011.52.06%E2%80%AFPM.png\"\n",
        "         alt=\"Albuquerque, New Mexico\">\n",
        "    <figcaption>Source: https://arxiv.org/abs/2311.04400</figcaption>\n",
        "</figure>\n",
        "\n",
        "LRM takes an image and tries to turn it into a 3D model. Here's how it works:\n",
        "\n",
        "1. **Image Understanding:** LRM first uses a pre-trained image recognition model to understand the objects and details in the image. This model pays attention to both the structure and texture of the object.\n",
        "\n",
        "2. **Camera Awareness:** LRM also considers the camera angle and position that took the picture. This helps to account for any distortion caused by the camera.\n",
        "\n",
        "3. **Space Slicing:** LRM imagines the 3D space around the object divided into thin slices along three axes (like chopping a box into slabs). This is called a triplane representation.\n",
        "\n",
        "4. **Image to Triplane Mapping:** LRM uses the image information and camera awareness to project details onto these slices. It does this by letting the slices \"talk\" to the image features, like matching puzzle pieces.\n",
        "\n",
        "5. **Fine-tuning the Slices:** LRM refines the slices further by considering the relationships between the details within each slice and across different slices.\n",
        "\n",
        "6. **3D Prediction:** Finally, LRM uses the information in the refined slices to predict the color and density of every point in 3D space, essentially creating a volume that represents the 3D model.\n",
        "\n",
        "LRM can also use additional side views of the same object during training to improve the accuracy of the 3D reconstruction."
      ],
      "metadata": {
        "id": "cB7bE7l-cwEQ"
      }
    },
    {
      "cell_type": "markdown",
      "source": [
        "Let us begin by setting the tools we need for this workflow."
      ],
      "metadata": {
        "id": "ztYvZbVcl9fd"
      }
    },
    {
      "cell_type": "markdown",
      "source": [
        "## Setup\n",
        "\n",
        "We first clone the TripoSR repository into our notebooks and set our device type.\n",
        "\n",
        "Note: Remember to install the requirements file of the TripoSR model."
      ],
      "metadata": {
        "id": "95OjyMJ2unG_"
      }
    },
    {
      "cell_type": "code",
      "source": [
        "!git clone https://github.com/ritwikraha/TripoSR.git"
      ],
      "metadata": {
        "id": "tSl0YsmPVbfb"
      },
      "execution_count": null,
      "outputs": []
    },
    {
      "cell_type": "code",
      "source": [
        "import sys\n",
        "sys.path.append('/content/TripoSR/tsr')"
      ],
      "metadata": {
        "id": "C1AMDudrVe0Q"
      },
      "execution_count": null,
      "outputs": []
    },
    {
      "cell_type": "code",
      "source": [
        "%cd TripoSR"
      ],
      "metadata": {
        "id": "CCNWQaOTVpa8"
      },
      "execution_count": null,
      "outputs": []
    },
    {
      "cell_type": "code",
      "source": [
        "!pip install -r requirements.txt -q\n",
        "!pip install -U diffusers accelerate -qq"
      ],
      "metadata": {
        "id": "WTzcHZfZVv8G"
      },
      "execution_count": null,
      "outputs": []
    },
    {
      "cell_type": "code",
      "source": [
        "import torch\n",
        "# Adjust device based on CUDA availability\n",
        "device = \"cuda\" if torch.cuda.is_available() else \"cpu\""
      ],
      "metadata": {
        "id": "Zmpct28ZfJe6"
      },
      "execution_count": null,
      "outputs": []
    },
    {
      "cell_type": "markdown",
      "source": [
        "## Imports"
      ],
      "metadata": {
        "id": "MMccH9kRdXCi"
      }
    },
    {
      "cell_type": "code",
      "execution_count": null,
      "metadata": {
        "id": "TTqpay4mTukL"
      },
      "outputs": [],
      "source": [
        "from diffusers import AutoPipelineForText2Image, DDIMScheduler\n",
        "from transformers import CLIPVisionModelWithProjection\n",
        "from diffusers.utils import load_image\n",
        "import os\n",
        "import time\n",
        "from PIL import Image\n",
        "import numpy as np\n",
        "from IPython.display import Video\n",
        "from tsr.system import TSR\n",
        "from tsr.utils import remove_background, resize_foreground, save_video\n",
        "import rembg"
      ]
    },
    {
      "cell_type": "markdown",
      "source": [
        "## Load the Pipelines for Image Preprocessing\n",
        "\n",
        "We use an Adapter to process the image in a specific style.\n",
        "\n",
        "An IP-Adapter with only 22M parameters can achieve comparable or even better performance to a fine-tuned image prompt model. IP-Adapter can be generalized not only to other custom models fine-tuned from the same base model, but also to controllable generation using existing controllable tools. Moreover, the image prompt can also work well with the text prompt to accomplish multimodal image generation.\n"
      ],
      "metadata": {
        "id": "EamN4hKMdbw5"
      }
    },
    {
      "cell_type": "code",
      "source": [
        "image_encoder = CLIPVisionModelWithProjection.from_pretrained(\n",
        "    \"h94/IP-Adapter\",\n",
        "    subfolder=\"models/image_encoder\",\n",
        "    torch_dtype=torch.float16,\n",
        ").to(device)"
      ],
      "metadata": {
        "id": "4jZEm7RtvTYV"
      },
      "execution_count": null,
      "outputs": []
    },
    {
      "cell_type": "markdown",
      "source": [
        "\n",
        "### Loading the Base Text-to-Image Pipeline:\n",
        "\n",
        "- We start by loading a pre-trained text-to-image pipeline model called `AutoPipelineForText2Image` from the `stabilityai/stable-diffusion-xl-base-1.0` model repository.\n",
        "\n",
        "\n",
        "### Configuring the Schedule:\n",
        "\n",
        "- We initilaise a new `DDIMScheduler` for controlling different phases of the image generation process.\n",
        "\n",
        "\n",
        "### Loading and Setting Up the Image Processing Adapter:\n",
        "\n",
        "- We load an IP adapter model, from a repository called `h94/IP-Adapter`.\n",
        "- We specify a subfolder `sdxl_models` where the adapter weights are stored.\n",
        "- We provide two weight names: `ip-adapter-plus_sdxl_vit-h.safetensors` and `ip-adapter-plus-face_sdxl_vit-h.safetensors`.\n",
        "- We set a scaling factor of `[0.7, 0.3]` for balancing the influence of different adapter components on final images.\n",
        "\n"
      ],
      "metadata": {
        "id": "d9Ps0yz2tIYD"
      }
    },
    {
      "cell_type": "code",
      "source": [
        "pipeline = AutoPipelineForText2Image.from_pretrained(\n",
        "    \"stabilityai/stable-diffusion-xl-base-1.0\",\n",
        "    torch_dtype=torch.float16,\n",
        "    image_encoder=image_encoder,\n",
        ").to(device)\n",
        "pipeline.scheduler = DDIMScheduler.from_config(pipeline.scheduler.config)\n",
        "pipeline.load_ip_adapter(\n",
        "  \"h94/IP-Adapter\",\n",
        "  subfolder=\"sdxl_models\",\n",
        "  weight_name=[\"ip-adapter-plus_sdxl_vit-h.safetensors\", \"ip-adapter-plus-face_sdxl_vit-h.safetensors\"]\n",
        ")\n",
        "pipeline.set_ip_adapter_scale([0.7, 0.3])\n",
        "pipeline.enable_model_cpu_offload()"
      ],
      "metadata": {
        "id": "y22rJI2HT9lz"
      },
      "execution_count": null,
      "outputs": []
    },
    {
      "cell_type": "markdown",
      "source": [
        "## Timer Class for Utility\n",
        "\n",
        "\n",
        "\n",
        "We define a `Timer` class to track execution times. It stores start times for named timers in a dictionary. The `start` method records the current time for a given timer name. The `end` method retrieves the start time, calculates the elapsed time (adjusted to milliseconds), and prints the name and duration.\n",
        "\n",
        "We then create a `Timer` object named `timer` for use in our program.\n"
      ],
      "metadata": {
        "id": "_LC7p8f1diBr"
      }
    },
    {
      "cell_type": "code",
      "source": [
        "# Define Timer class\n",
        "class Timer:\n",
        "    def __init__(self):\n",
        "        self.items = {}\n",
        "        self.time_scale = 1000.0  # ms\n",
        "        self.time_unit = \"ms\"\n",
        "\n",
        "    def start(self, name: str) -> None:\n",
        "        if torch.cuda.is_available():\n",
        "            torch.cuda.synchronize()\n",
        "        self.items[name] = time.time()\n",
        "\n",
        "    def end(self, name: str) -> float:\n",
        "        if name not in self.items:\n",
        "            return\n",
        "        if torch.cuda.is_available():\n",
        "            torch.cuda.synchronize()\n",
        "        start_time = self.items.pop(name)\n",
        "        delta = time.time() - start_time\n",
        "        t = delta * self.time_scale\n",
        "        print(f\"{name} finished in {t:.2f}{self.time_unit}.\")\n",
        "\n",
        "timer = Timer()"
      ],
      "metadata": {
        "id": "EmFrm9-nV2h5"
      },
      "execution_count": null,
      "outputs": []
    },
    {
      "cell_type": "markdown",
      "source": [
        "## Upload your data and Generate Avatar Image\n",
        "\n",
        "Here we upload the image and supply the prompt needed to generate an image in a specified style."
      ],
      "metadata": {
        "id": "LkyLRcwbw5QZ"
      }
    },
    {
      "cell_type": "markdown",
      "source": [
        "### Upload your picture"
      ],
      "metadata": {
        "id": "ZHkiiXkjw9ix"
      }
    },
    {
      "cell_type": "code",
      "source": [
        "from google.colab import files\n",
        "\n",
        "uploaded = files.upload()"
      ],
      "metadata": {
        "id": "CuDnCQ1QwfHT"
      },
      "execution_count": null,
      "outputs": []
    },
    {
      "cell_type": "code",
      "source": [
        "# @title Enter a prompt { run: \"auto\", vertical-output: true, form-width: \"10000px\", display-mode: \"form\" }\n",
        "prompt = \"a 3D version of this person\" # @param {type:\"string\"}\n"
      ],
      "metadata": {
        "id": "ymHhrBsTebxt"
      },
      "execution_count": null,
      "outputs": []
    },
    {
      "cell_type": "markdown",
      "source": [
        "### Upload the style images to guide the generation\n",
        "\n",
        "Here, we are using some images hosted on HF that have the funko pop style. If you want, you can change it to use any style you want."
      ],
      "metadata": {
        "id": "YTdscDFvxBtp"
      }
    },
    {
      "cell_type": "code",
      "source": [
        "face_image = Image.open(list(uploaded.keys())[0])\n",
        "style_folder = \"https://huggingface.co/datasets/pedrogengo/funkopop_images/resolve/main\"\n",
        "style_images = [load_image(f\"{style_folder}/funko{i}.jpeg\").resize((1024, 1024)) for i in range(1, 5)]"
      ],
      "metadata": {
        "id": "8XXQ8v1kUDcQ"
      },
      "execution_count": null,
      "outputs": []
    },
    {
      "cell_type": "markdown",
      "source": [
        "### Generate images using the pipeline\n",
        "\n",
        "Supply the prompt and the style and object image. We specifiy the `num_inference_steps` to `50`, we can also set that as we need.\n",
        "\n",
        "A more number of steps will be useful in diluting the `strength` parameter."
      ],
      "metadata": {
        "id": "jPEvQK7heH8L"
      }
    },
    {
      "cell_type": "code",
      "source": [
        "generator = torch.Generator(device=device).manual_seed(42)\n",
        "\n",
        "image = pipeline(\n",
        "    prompt=prompt,\n",
        "    ip_adapter_image=[style_images, face_image],\n",
        "    negative_prompt=\"monochrome, lowres, bad anatomy, worst quality, low quality\",\n",
        "    num_inference_steps=50, num_images_per_prompt=1,\n",
        "    generator=generator,\n",
        ").images[0]"
      ],
      "metadata": {
        "id": "yEF4fivQUKLf"
      },
      "execution_count": null,
      "outputs": []
    },
    {
      "cell_type": "code",
      "source": [
        "image.resize((512, 512))"
      ],
      "metadata": {
        "id": "OVmbJpvyWgfc"
      },
      "execution_count": null,
      "outputs": []
    },
    {
      "cell_type": "markdown",
      "source": [
        "\n",
        "\n",
        "<figure>\n",
        "    <img src=\"https://huggingface.co/datasets/ritwikraha/random-storage/resolve/main/avatar.png\"\n",
        "         alt=\"Albuquerque, New Mexico\">\n",
        "    <figcaption>Image in the promised style</figcaption>\n",
        "</figure>"
      ],
      "metadata": {
        "id": "Tdd_UfcafB3L"
      }
    },
    {
      "cell_type": "code",
      "source": [
        "image.resize((512, 512)).save(\"examples/avatar.jpg\")"
      ],
      "metadata": {
        "id": "Mh-cM8X7XlSr"
      },
      "execution_count": null,
      "outputs": []
    },
    {
      "cell_type": "markdown",
      "source": [
        "## The TripoSR model for 3D Avatar"
      ],
      "metadata": {
        "id": "mAl7yU3YfWzA"
      }
    },
    {
      "cell_type": "code",
      "source": [
        "# Parameters for running the TripoSR\n",
        "image_paths = \"/content/TripoSR/examples/avatar.jpg\"\n",
        "device = \"cuda:0\"\n",
        "pretrained_model_name_or_path = \"stabilityai/TripoSR\"\n",
        "chunk_size = 8192\n",
        "no_remove_bg = True\n",
        "foreground_ratio = 0.85\n",
        "output_dir = \"output/\"\n",
        "model_save_format = \"obj\"\n",
        "render = True"
      ],
      "metadata": {
        "cellView": "code",
        "id": "EEaO83GEWNJP"
      },
      "execution_count": null,
      "outputs": []
    },
    {
      "cell_type": "code",
      "source": [
        "output_dir = output_dir.strip()\n",
        "os.makedirs(output_dir, exist_ok=True)"
      ],
      "metadata": {
        "id": "8Y_Cb-CifDC7"
      },
      "execution_count": null,
      "outputs": []
    },
    {
      "cell_type": "markdown",
      "source": [
        "### Generate Images for the 3D model\n",
        "\n",
        "We'll initialize by loading the powerful TSR model from the disk and configuring its rendering chunk size.  Then, to ensure optimal performance, we'll strategically place the model on either the CPU or GPU. (Go for a GPU or go home)\n",
        "\n",
        "Next, we'll dive into processing your images.  First, we'll create a handy list to keep track of all the processed ones.  Then, we'll leverage rembg to initiate a background removal session, ensuring your avatar takes center stage.  For each image in your collection, we'll meticulously remove the background and resize the foreground to a specific ratio.  \n",
        "\n",
        "If the image has an alpha channel, which helps manage transparency, we'll normalize the pixel values and handle alpha blending for a seamless compositing process.  Finally, we'll save the processed image with a clear filename like `input.png` within a designated output directory, before adding it to our list for further processing.\n",
        "\n",
        "Remember these are your views, that will be projected to the 3D triplane.\n",
        "\n",
        "\n"
      ],
      "metadata": {
        "id": "L3OLcSwnhrKm"
      }
    },
    {
      "cell_type": "code",
      "source": [
        "# Initialize model\n",
        "timer.start(\"Initializing model\")\n",
        "model = TSR.from_pretrained(\n",
        "    pretrained_model_name_or_path,\n",
        "    config_name=\"config.yaml\",\n",
        "    weight_name=\"model.ckpt\",\n",
        ")\n",
        "model.renderer.set_chunk_size(chunk_size)\n",
        "model.to(device)\n",
        "timer.end(\"Initializing model\")\n",
        "\n",
        "# Process images\n",
        "timer.start(\"Processing images\")\n",
        "images = []\n",
        "\n",
        "\n",
        "rembg_session = rembg.new_session()\n",
        "\n",
        "image = remove_background(image, rembg_session)\n",
        "image = resize_foreground(image, foreground_ratio)\n",
        "\n",
        "if image.mode == \"RGBA\":\n",
        "  image = np.array(image).astype(np.float32) / 255.0\n",
        "  image = image[:, :, :3] * image[:, :, 3:4] + (1 - image[:, :, 3:4]) * 0.5\n",
        "  image = Image.fromarray((image * 255.0).astype(np.uint8))\n",
        "\n",
        "image_dir = os.path.join(output_dir, str(0))\n",
        "os.makedirs(image_dir, exist_ok=True)\n",
        "image.save(os.path.join(image_dir, \"input.png\"))\n",
        "images.append(image)\n",
        "timer.end(\"Processing images\")"
      ],
      "metadata": {
        "id": "ndohLkwXWYME"
      },
      "execution_count": null,
      "outputs": []
    },
    {
      "cell_type": "code",
      "source": [
        "# Visualise the image\n",
        "image"
      ],
      "metadata": {
        "id": "dBb2VUaEZd_c"
      },
      "execution_count": null,
      "outputs": []
    },
    {
      "cell_type": "markdown",
      "source": [
        "<figure>\n",
        "    <img src=\"https://huggingface.co/datasets/ritwikraha/random-storage/resolve/main/avatar-3d.png\"\n",
        "         alt=\"Albuquerque, New Mexico\">\n",
        "    <figcaption>3D Image from the image</figcaption>\n",
        "</figure>"
      ],
      "metadata": {
        "id": "pJ06p47nfmqH"
      }
    },
    {
      "cell_type": "markdown",
      "source": [
        "### Render Video from Images\n",
        "\n",
        "\n",
        "In this stage, we'll process each image individually. We'll loop through your entire collection, providing progress updates as we go. For each image, we'll disable gradients within the model for efficiency before running it to generate scene codes. These scene codes act as the blueprint for your 3D avatar. If rendering is enabled, we'll take things a step further. We'll use the scene codes to create 30 unique views of your avatar from different angles. Each view will be saved as a PNG image, and we'll even compile them into a video showcasing your avatar in motion. Finally, we'll extract the 3D mesh, the core structure of your avatar, from the scene codes and save it in your preferred format.\n",
        "\n"
      ],
      "metadata": {
        "id": "HQdOgP_1hvsK"
      }
    },
    {
      "cell_type": "code",
      "source": [
        "# Process each image\n",
        "for i, image in enumerate(images):\n",
        "    print(f\"Running image {i + 1}/{len(images)} ...\")\n",
        "\n",
        "    # Run model\n",
        "    timer.start(\"Running model\")\n",
        "    with torch.no_grad():\n",
        "        scene_codes = model([image], device=device)\n",
        "    timer.end(\"Running model\")\n",
        "\n",
        "    # Rendering\n",
        "    if render:\n",
        "        timer.start(\"Rendering\")\n",
        "        render_images = model.render(scene_codes, n_views=30, return_type=\"pil\")\n",
        "        for ri, render_image in enumerate(render_images[0]):\n",
        "            render_image.save(os.path.join(output_dir, str(i), f\"render_{ri:03d}.png\"))\n",
        "        save_video(\n",
        "            render_images[0], os.path.join(output_dir, str(i), \"render.mp4\"), fps=30\n",
        "        )\n",
        "        timer.end(\"Rendering\")\n",
        "\n",
        "    # Export mesh\n",
        "    timer.start(\"Exporting mesh\")\n",
        "    meshes = model.extract_mesh(scene_codes)\n",
        "    mesh_file = os.path.join(output_dir, str(i), f\"mesh.{model_save_format}\")\n",
        "    meshes[0].export(mesh_file)\n",
        "    timer.end(\"Exporting mesh\")\n",
        "\n",
        "print(\"Processing complete.\")"
      ],
      "metadata": {
        "id": "vzHqbFqdXr_M"
      },
      "execution_count": null,
      "outputs": []
    },
    {
      "cell_type": "markdown",
      "source": [
        "## Output Video"
      ],
      "metadata": {
        "id": "8iz40eD8fyvS"
      }
    },
    {
      "cell_type": "code",
      "source": [
        "# Display the video\n",
        "Video('output/0/render.mp4', embed=True)"
      ],
      "metadata": {
        "id": "Mmvw8OouZ4dG"
      },
      "execution_count": null,
      "outputs": []
    },
    {
      "cell_type": "markdown",
      "source": [
        "# Summary\n",
        "\n",
        "\n",
        "This project explores an approach to creating 3D avatars directly from your images. This workflow utilizes diffusion tools like IP Adapters and a pretrained image-to-3D model like TripoSR to create 3D version of profile photos.\n",
        "\n",
        "TripoSR follows a fascinating pipeline inspired by the LRM (Large Reconstruction Model). LRM models typically works through [Image Triplane Mapping](https://helpx.adobe.com/substance-3d-painter/painting/fill-projections/tri-planar-projection.html) which is a way to associate image slices with a specific viewpoint in the 3D space.\n",
        "\n",
        "**The Workflow:**\n",
        "\n",
        "1. **Image Upload and Prompting:** You begin by providing a high-quality image of yourself or your desired avatar. Additionally, you can include a text prompt to specify desired characteristics.\n",
        "2. **Optional Style Transfer:** Want your avatar to have a cartoonish or artistic flair? An IP Adapter can be used to adjust the image style before conversion. Get your own or choose from HuggingFace's wide array of Adapters.\n",
        "3. **TripoSR Model Processing:**  The core of this process lies with TripoSR, a powerful 3D generative model. It analyzes the image, accounting for camera perspective and object details, to create a 3D representation.\n",
        "4. **3D Model Rendering:** Finally, the generated 3D model can be visualized and even rendered as a video for a complete showcase.\n",
        "\n",
        "\n",
        "This project is a simple take on how remixing tools like Adapters, LoRAs and pretrained models can lead to insanely creative generations like a 3D model of your profile picture, a talking head.\n",
        "\n",
        "Who knows, someday a metaverse character?"
      ],
      "metadata": {
        "id": "43Il2xqEgggb"
      }
    },
    {
      "cell_type": "markdown",
      "source": [
        "# References\n",
        "\n",
        "- [TripoSR by Stability AI](https://huggingface.co/stabilityai/TripoSR)\n",
        "- [IP Adapter Face ID](https://huggingface.co/h94/IP-Adapter-FaceID)\n",
        "- [Large Reconstruction Model for Single Image to 3D](https://arxiv.org/abs/2311.04400)\n",
        "- [Representing scenes as Neural Fields](https://arxiv.org/abs/2003.08934)"
      ],
      "metadata": {
        "id": "YDqU7Rt1mGZO"
      }
    }
  ]
}